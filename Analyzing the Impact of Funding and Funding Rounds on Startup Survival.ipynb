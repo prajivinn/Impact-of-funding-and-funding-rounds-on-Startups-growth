{
 "cells": [
  {
   "cell_type": "markdown",
   "id": "91be6681",
   "metadata": {},
   "source": [
    "# DOMAIN: Startup ecosystem\n",
    "\n",
    "### Overview:\n",
    "\n",
    "Company X, a leading Indian online publisher dedicated to startup industry insights, is driven by a mission to empower its audience with actionable knowledge. In the dynamic world of startups, the company recognizes the crucial need to answer a pivotal question: What financial factors differentiate thriving, currently operating startups from those that ultimately cease operations? \n",
    "\n",
    "### Objective:\n",
    "\n",
    "This project seeks to address the critical questions of whether there is a statistically significant difference in the mean funds raised by startups that are currently operating compared to those that have ceased operations. Additionally, we aim to investigate whether there exists a significant disparity in the number of funding rounds between currently operating startups and startups that have closed.\n",
    "\n",
    "\n",
    "*Note*:\n",
    "\n",
    "*- Dataset Credits --> https://www.kaggle.com/datasets/yanmaksi/big-startup-secsees-fail-dataset-from-crunchbase\n",
    "Filter on country and status column*\n",
    "\n",
    "*- Unauthorised use or distribution of this project prohibited @dataanalystduo*"
   ]
  },
  {
   "cell_type": "markdown",
   "id": "b811ae18",
   "metadata": {},
   "source": [
    "### Plan of Action:\n",
    "\n",
    "\n",
    "1. **Formulating the Hypothesis**: Begin by crafting clear and testable hypotheses that lay the foundation for your analysis.\n",
    "\n",
    "2. **Data Exploration and Validation**: Dive into the dataset, conducting a thorough examination to ensure its quality and coherence, while also gaining a deeper understanding of the data.\n",
    "\n",
    "3. **Selecting the Appropriate Statistical Test**: Identify the most suitable statistical tests or methods that align with your hypotheses and objectives.\n",
    "\n",
    "4. **Statistical Analysis**: Execute the selected tests or analyses on the dataset, generating meaningful insights and drawing statistically sound conclusions.\n",
    "\n",
    "5. **Concluding Insights**: Summarize the findings and conclusions drawn from the analysis, providing actionable insights that address your research objectives effectively."
   ]
  },
  {
   "cell_type": "markdown",
   "id": "f6437b31",
   "metadata": {},
   "source": [
    "#### Step 1: Building Hypothesis:\n",
    "\n",
    "##### Mean Funds Raised\n",
    "\n",
    "Null Hypothesis (H0): There is no statistically significant difference in the mean funds raised by currently operating startups and startups that have closed.\n",
    "\n",
    "Alternative Hypothesis (H1): There is a statistically significant difference in the mean funds raised by currently operating startups and startups that have closed.\n",
    "\n",
    "    \n",
    "##### Number of Funding Rounds\n",
    "Null Hypothesis (H0): There is no statistically significant difference in the number of funding rounds between currently operating startups and startups that have closed.\n",
    "\n",
    "Alternative Hypothesis (H1): There is a statistically significant difference in the number of funding rounds between currently operating startups and startups that have closed."
   ]
  },
  {
   "cell_type": "markdown",
   "id": "438c512a",
   "metadata": {},
   "source": [
    "#### Step 2: Data Exploration and Validation"
   ]
  },
  {
   "cell_type": "code",
   "execution_count": 68,
   "id": "772c1d33",
   "metadata": {},
   "outputs": [],
   "source": [
    "# import library\n",
    "import numpy as np\n",
    "import pandas as pd\n",
    "import matplotlib.pyplot as plt\n",
    "import seaborn as sns \n",
    "\n",
    "%matplotlib inline"
   ]
  },
  {
   "cell_type": "code",
   "execution_count": 69,
   "id": "071031dd",
   "metadata": {},
   "outputs": [
    {
     "name": "stderr",
     "output_type": "stream",
     "text": [
      "/var/folders/bl/lpv4jfm17cd97_xfftsgr5240000gn/T/ipykernel_2359/577148924.py:2: FutureWarning: Inferring datetime64[ns] from data containing strings is deprecated and will be removed in a future version. To retain the old behavior explicitly pass Series(data, dtype=datetime64[ns])\n",
      "  startup_df = pd.read_excel(r\"/Users/praju/Desktop/Intensive_bootcamp/Statistics_for_Data_Analysis_level_2/Startup_Project/Funding_Dataset.xlsx\")\n"
     ]
    }
   ],
   "source": [
    "# Read the Excel file \n",
    "startup_df = pd.read_excel(r\"/Users/praju/Desktop/Intensive_bootcamp/Statistics_for_Data_Analysis_level_2/Startup_Project/Funding_Dataset.xlsx\")"
   ]
  },
  {
   "cell_type": "code",
   "execution_count": 70,
   "id": "e68fd23c",
   "metadata": {},
   "outputs": [
    {
     "data": {
      "text/html": [
       "<div>\n",
       "<style scoped>\n",
       "    .dataframe tbody tr th:only-of-type {\n",
       "        vertical-align: middle;\n",
       "    }\n",
       "\n",
       "    .dataframe tbody tr th {\n",
       "        vertical-align: top;\n",
       "    }\n",
       "\n",
       "    .dataframe thead th {\n",
       "        text-align: right;\n",
       "    }\n",
       "</style>\n",
       "<table border=\"1\" class=\"dataframe\">\n",
       "  <thead>\n",
       "    <tr style=\"text-align: right;\">\n",
       "      <th></th>\n",
       "      <th>permalink</th>\n",
       "      <th>name</th>\n",
       "      <th>homepage_url</th>\n",
       "      <th>category_list</th>\n",
       "      <th>funding_total_usd</th>\n",
       "      <th>status</th>\n",
       "      <th>country_code</th>\n",
       "      <th>state_code</th>\n",
       "      <th>region</th>\n",
       "      <th>city</th>\n",
       "      <th>funding_rounds</th>\n",
       "      <th>founded_at</th>\n",
       "      <th>first_funding_at</th>\n",
       "      <th>last_funding_at</th>\n",
       "    </tr>\n",
       "  </thead>\n",
       "  <tbody>\n",
       "    <tr>\n",
       "      <th>0</th>\n",
       "      <td>/organization/-fame</td>\n",
       "      <td>#fame</td>\n",
       "      <td>http://livfame.com</td>\n",
       "      <td>Media</td>\n",
       "      <td>10000000</td>\n",
       "      <td>operating</td>\n",
       "      <td>IND</td>\n",
       "      <td>16</td>\n",
       "      <td>Mumbai</td>\n",
       "      <td>Mumbai</td>\n",
       "      <td>1</td>\n",
       "      <td>NaT</td>\n",
       "      <td>2015-01-05</td>\n",
       "      <td>2015-01-05</td>\n",
       "    </tr>\n",
       "    <tr>\n",
       "      <th>1</th>\n",
       "      <td>/organization/1000lookz</td>\n",
       "      <td>1000Lookz</td>\n",
       "      <td>http://1000lookz.com</td>\n",
       "      <td>Beauty</td>\n",
       "      <td>-</td>\n",
       "      <td>operating</td>\n",
       "      <td>IND</td>\n",
       "      <td>25</td>\n",
       "      <td>Chennai</td>\n",
       "      <td>Chennai</td>\n",
       "      <td>1</td>\n",
       "      <td>2008-01-01</td>\n",
       "      <td>2013-07-22</td>\n",
       "      <td>2013-07-22</td>\n",
       "    </tr>\n",
       "    <tr>\n",
       "      <th>2</th>\n",
       "      <td>/organization/21diamonds-india</td>\n",
       "      <td>21Diamonds</td>\n",
       "      <td>http://www.21diamonds.de</td>\n",
       "      <td>E-Commerce</td>\n",
       "      <td>6369507</td>\n",
       "      <td>operating</td>\n",
       "      <td>IND</td>\n",
       "      <td>10</td>\n",
       "      <td>New Delhi</td>\n",
       "      <td>Gurgaon</td>\n",
       "      <td>1</td>\n",
       "      <td>2012-06-01</td>\n",
       "      <td>2012-11-15</td>\n",
       "      <td>2012-11-15</td>\n",
       "    </tr>\n",
       "    <tr>\n",
       "      <th>3</th>\n",
       "      <td>/organization/247-learning-private</td>\n",
       "      <td>24x7 Learning</td>\n",
       "      <td>http://www.24x7learning.com</td>\n",
       "      <td>EdTech|Education|Systems</td>\n",
       "      <td>4000000</td>\n",
       "      <td>operating</td>\n",
       "      <td>IND</td>\n",
       "      <td>19</td>\n",
       "      <td>Bangalore</td>\n",
       "      <td>Bangalore</td>\n",
       "      <td>1</td>\n",
       "      <td>2001-01-01</td>\n",
       "      <td>2007-11-06</td>\n",
       "      <td>2007-11-06</td>\n",
       "    </tr>\n",
       "    <tr>\n",
       "      <th>4</th>\n",
       "      <td>/organization/33coupons</td>\n",
       "      <td>33Coupons</td>\n",
       "      <td>http://33coupons.in</td>\n",
       "      <td>Internet</td>\n",
       "      <td>20000</td>\n",
       "      <td>operating</td>\n",
       "      <td>IND</td>\n",
       "      <td>36</td>\n",
       "      <td>Kanpur</td>\n",
       "      <td>Kanpur</td>\n",
       "      <td>1</td>\n",
       "      <td>2015-05-01</td>\n",
       "      <td>2015-07-06</td>\n",
       "      <td>2015-07-06</td>\n",
       "    </tr>\n",
       "  </tbody>\n",
       "</table>\n",
       "</div>"
      ],
      "text/plain": [
       "                            permalink           name  \\\n",
       "0                 /organization/-fame          #fame   \n",
       "1             /organization/1000lookz      1000Lookz   \n",
       "2      /organization/21diamonds-india     21Diamonds   \n",
       "3  /organization/247-learning-private  24x7 Learning   \n",
       "4             /organization/33coupons      33Coupons   \n",
       "\n",
       "                  homepage_url             category_list funding_total_usd  \\\n",
       "0           http://livfame.com                     Media          10000000   \n",
       "1         http://1000lookz.com                    Beauty                 -   \n",
       "2     http://www.21diamonds.de                E-Commerce           6369507   \n",
       "3  http://www.24x7learning.com  EdTech|Education|Systems           4000000   \n",
       "4          http://33coupons.in                  Internet             20000   \n",
       "\n",
       "      status country_code  state_code     region       city  funding_rounds  \\\n",
       "0  operating          IND          16     Mumbai     Mumbai               1   \n",
       "1  operating          IND          25    Chennai    Chennai               1   \n",
       "2  operating          IND          10  New Delhi    Gurgaon               1   \n",
       "3  operating          IND          19  Bangalore  Bangalore               1   \n",
       "4  operating          IND          36     Kanpur     Kanpur               1   \n",
       "\n",
       "  founded_at first_funding_at last_funding_at  \n",
       "0        NaT       2015-01-05      2015-01-05  \n",
       "1 2008-01-01       2013-07-22      2013-07-22  \n",
       "2 2012-06-01       2012-11-15      2012-11-15  \n",
       "3 2001-01-01       2007-11-06      2007-11-06  \n",
       "4 2015-05-01       2015-07-06      2015-07-06  "
      ]
     },
     "execution_count": 70,
     "metadata": {},
     "output_type": "execute_result"
    }
   ],
   "source": [
    "# View the data\n",
    "startup_df.head()"
   ]
  },
  {
   "cell_type": "code",
   "execution_count": 71,
   "id": "c14860af",
   "metadata": {},
   "outputs": [
    {
     "data": {
      "text/plain": [
       "(1536, 14)"
      ]
     },
     "execution_count": 71,
     "metadata": {},
     "output_type": "execute_result"
    }
   ],
   "source": [
    "startup_df.shape"
   ]
  },
  {
   "cell_type": "markdown",
   "id": "63986646",
   "metadata": {},
   "source": [
    "In our dataset, we have gathered data on 1,596 startups based in India, capturing essential details across 13 columns. While all columns provide valuable information, our primary focus for this particular analysis will be directed towards understanding the dynamics of these startups through the lens of their **Status**, **Funding Total (in USD)** and **Funding Rounds**.\n",
    "\n",
    "Before we dive into EDA, we need to clean the dataset."
   ]
  },
  {
   "cell_type": "code",
   "execution_count": 72,
   "id": "95eeff8e",
   "metadata": {},
   "outputs": [
    {
     "data": {
      "text/plain": [
       "(1536, 14)"
      ]
     },
     "execution_count": 72,
     "metadata": {},
     "output_type": "execute_result"
    }
   ],
   "source": [
    "# Check for duplicate rows\n",
    "\n",
    "startup_df.drop_duplicates().shape"
   ]
  },
  {
   "cell_type": "markdown",
   "id": "e1a86bc8",
   "metadata": {},
   "source": [
    "There is no duplication."
   ]
  },
  {
   "cell_type": "code",
   "execution_count": 73,
   "id": "bbccb0a3",
   "metadata": {},
   "outputs": [
    {
     "name": "stdout",
     "output_type": "stream",
     "text": [
      "status               0\n",
      "funding_total_usd    0\n",
      "funding_rounds       0\n",
      "dtype: int64\n"
     ]
    }
   ],
   "source": [
    "# Assuming startup_df is your DataFrame\n",
    "columns_to_check = ['status', 'funding_total_usd', 'funding_rounds']\n",
    "\n",
    "# Check for null values in the specified columns\n",
    "null_counts = startup_df[columns_to_check].isnull().sum()\n",
    "\n",
    "# Display the null value counts for each column\n",
    "print(null_counts)"
   ]
  },
  {
   "cell_type": "markdown",
   "id": "e4b4361b",
   "metadata": {},
   "source": [
    "There is no null value in the variables of our interest."
   ]
  },
  {
   "cell_type": "code",
   "execution_count": 74,
   "id": "4136bf8a",
   "metadata": {},
   "outputs": [
    {
     "name": "stdout",
     "output_type": "stream",
     "text": [
      "<class 'pandas.core.frame.DataFrame'>\n",
      "RangeIndex: 1536 entries, 0 to 1535\n",
      "Data columns (total 14 columns):\n",
      " #   Column             Non-Null Count  Dtype         \n",
      "---  ------             --------------  -----         \n",
      " 0   permalink          1536 non-null   object        \n",
      " 1   name               1536 non-null   object        \n",
      " 2   homepage_url       1510 non-null   object        \n",
      " 3   category_list      1493 non-null   object        \n",
      " 4   funding_total_usd  1536 non-null   object        \n",
      " 5   status             1536 non-null   object        \n",
      " 6   country_code       1536 non-null   object        \n",
      " 7   state_code         1520 non-null   float64       \n",
      " 8   region             1516 non-null   object        \n",
      " 9   city               1516 non-null   object        \n",
      " 10  funding_rounds     1536 non-null   int64         \n",
      " 11  founded_at         1255 non-null   datetime64[ns]\n",
      " 12  first_funding_at   1536 non-null   datetime64[ns]\n",
      " 13  last_funding_at    1536 non-null   datetime64[ns]\n",
      "dtypes: datetime64[ns](3), float64(1), int64(1), object(9)\n",
      "memory usage: 168.1+ KB\n"
     ]
    }
   ],
   "source": [
    "startup_df.info()"
   ]
  },
  {
   "cell_type": "markdown",
   "id": "4c382f3a",
   "metadata": {},
   "source": [
    "There are no **null or duplicate values** in the dataset but we could see that the **total_funding_usd** column should be cleaned and the datatype should be formatted."
   ]
  },
  {
   "cell_type": "code",
   "execution_count": 75,
   "id": "00d9a6ab",
   "metadata": {},
   "outputs": [
    {
     "data": {
      "text/plain": [
       "(1134, 14)"
      ]
     },
     "execution_count": 75,
     "metadata": {},
     "output_type": "execute_result"
    }
   ],
   "source": [
    "#Dropping \"-\" in funding_total_usd column and resetting the index values\n",
    "\n",
    "startup_df = startup_df[startup_df['funding_total_usd']!='-']\n",
    "startup_df.reset_index(drop = True)\n",
    "\n",
    "startup_df.shape"
   ]
  },
  {
   "cell_type": "code",
   "execution_count": 76,
   "id": "5b1adde7",
   "metadata": {},
   "outputs": [],
   "source": [
    "\n",
    "#Formatting the dataset to float datatype\n",
    "\n",
    "startup_df['funding_total_usd'] = pd.to_numeric(startup_df['funding_total_usd'], errors='coerce')\n",
    "startup_df['funding_total_usd'] = startup_df['funding_total_usd'].astype('float')"
   ]
  },
  {
   "cell_type": "code",
   "execution_count": 77,
   "id": "aaf4ae27",
   "metadata": {},
   "outputs": [
    {
     "name": "stdout",
     "output_type": "stream",
     "text": [
      "<class 'pandas.core.frame.DataFrame'>\n",
      "Int64Index: 1134 entries, 0 to 1534\n",
      "Data columns (total 14 columns):\n",
      " #   Column             Non-Null Count  Dtype         \n",
      "---  ------             --------------  -----         \n",
      " 0   permalink          1134 non-null   object        \n",
      " 1   name               1134 non-null   object        \n",
      " 2   homepage_url       1113 non-null   object        \n",
      " 3   category_list      1115 non-null   object        \n",
      " 4   funding_total_usd  1134 non-null   float64       \n",
      " 5   status             1134 non-null   object        \n",
      " 6   country_code       1134 non-null   object        \n",
      " 7   state_code         1125 non-null   float64       \n",
      " 8   region             1122 non-null   object        \n",
      " 9   city               1122 non-null   object        \n",
      " 10  funding_rounds     1134 non-null   int64         \n",
      " 11  founded_at         940 non-null    datetime64[ns]\n",
      " 12  first_funding_at   1134 non-null   datetime64[ns]\n",
      " 13  last_funding_at    1134 non-null   datetime64[ns]\n",
      "dtypes: datetime64[ns](3), float64(2), int64(1), object(8)\n",
      "memory usage: 132.9+ KB\n"
     ]
    }
   ],
   "source": [
    "startup_df.info()"
   ]
  },
  {
   "cell_type": "code",
   "execution_count": 78,
   "id": "262fdb57",
   "metadata": {},
   "outputs": [
    {
     "data": {
      "text/plain": [
       "operating    1085\n",
       "closed         49\n",
       "Name: status, dtype: int64"
      ]
     },
     "execution_count": 78,
     "metadata": {},
     "output_type": "execute_result"
    }
   ],
   "source": [
    "status_counts = startup_df['status'].value_counts()\n",
    "status_counts"
   ]
  },
  {
   "cell_type": "code",
   "execution_count": 79,
   "id": "11edc863",
   "metadata": {},
   "outputs": [
    {
     "data": {
      "image/png": "[encoded data removed]",
      "text/plain": [
       "<Figure size 800x600 with 1 Axes>"
      ]
     },
     "metadata": {},
     "output_type": "display_data"
    }
   ],
   "source": [
    "# Visualize 'Status' column\n",
    "\n",
    "status_counts = startup_df['status'].value_counts()\n",
    "\n",
    "# Plotting\n",
    "plt.figure(figsize=(8, 6))\n",
    "plt.bar(status_counts.index, status_counts.values, color='blue')\n",
    "plt.xlabel('Startup Status')\n",
    "plt.ylabel('Count')\n",
    "plt.title('Distribution of Startup Status')\n",
    "\n",
    "# Adding data labels (count values) to the bars\n",
    "for i, v in enumerate(status_counts):\n",
    "    plt.text(i, v + 10, v, ha='center')\n",
    "    # i: This is the x-coordinate where the data label will be placed.\n",
    "    # v + 10: This is the y-coordinate where the data label will be placed\n",
    "    # ha='center': This parameter specifies the horizontal alignment of the text, ensuring that it's centered above each bar.\n",
    "\n",
    "plt.savefig('IFFS_Status.jpg',bbox_inches='tight',dpi=150)    \n",
    "# Display the plot\n",
    "plt.show()"
   ]
  },
  {
   "cell_type": "code",
   "execution_count": 80,
   "id": "abc5de6f",
   "metadata": {},
   "outputs": [
    {
     "name": "stdout",
     "output_type": "stream",
     "text": [
      "count         1134\n",
      "mean      23391193\n",
      "std      153640842\n",
      "min            569\n",
      "25%         200000\n",
      "50%        1275000\n",
      "75%       10000000\n",
      "max     3151140000\n",
      "Name: funding_total_usd, dtype: float64\n"
     ]
    }
   ],
   "source": [
    "# Let us understand more about funding column\n",
    "\n",
    "# Set the display format for float numbers to display complete numbers\n",
    "pd.options.display.float_format = '{:.0f}'.format\n",
    "\n",
    "# By setting pd.options.display.float_format to ' {:.0f}'.format, you instruct pandas to format floating-point numbers with \n",
    "# zero decimal places, effectively displaying complete numbers.\n",
    "\n",
    "# Assuming startup_df is your DataFrame\n",
    "description = startup_df['funding_total_usd'].describe()\n",
    "\n",
    "# Display the description with complete numbers\n",
    "print(description)"
   ]
  },
  {
   "cell_type": "markdown",
   "id": "6a834573",
   "metadata": {},
   "source": [
    "Overall average funding raised in 23 million dollars. Minimum funding is just 569 dollars and maximum is 3 billion dollars.\n",
    "\n",
    "Let's find out the startups with the highest and least fundings."
   ]
  },
  {
   "cell_type": "code",
   "execution_count": 81,
   "id": "ba1df0b0",
   "metadata": {},
   "outputs": [
    {
     "data": {
      "text/html": [
       "<div>\n",
       "<style scoped>\n",
       "    .dataframe tbody tr th:only-of-type {\n",
       "        vertical-align: middle;\n",
       "    }\n",
       "\n",
       "    .dataframe tbody tr th {\n",
       "        vertical-align: top;\n",
       "    }\n",
       "\n",
       "    .dataframe thead th {\n",
       "        text-align: right;\n",
       "    }\n",
       "</style>\n",
       "<table border=\"1\" class=\"dataframe\">\n",
       "  <thead>\n",
       "    <tr style=\"text-align: right;\">\n",
       "      <th></th>\n",
       "      <th>permalink</th>\n",
       "      <th>name</th>\n",
       "      <th>homepage_url</th>\n",
       "      <th>category_list</th>\n",
       "      <th>funding_total_usd</th>\n",
       "      <th>status</th>\n",
       "      <th>country_code</th>\n",
       "      <th>state_code</th>\n",
       "      <th>region</th>\n",
       "      <th>city</th>\n",
       "      <th>funding_rounds</th>\n",
       "      <th>founded_at</th>\n",
       "      <th>first_funding_at</th>\n",
       "      <th>last_funding_at</th>\n",
       "    </tr>\n",
       "  </thead>\n",
       "  <tbody>\n",
       "    <tr>\n",
       "      <th>434</th>\n",
       "      <td>/organization/flipkart</td>\n",
       "      <td>Flipkart</td>\n",
       "      <td>http://www.flipkart.com</td>\n",
       "      <td>E-Commerce|Online Shopping</td>\n",
       "      <td>3151140000</td>\n",
       "      <td>operating</td>\n",
       "      <td>IND</td>\n",
       "      <td>19</td>\n",
       "      <td>Bangalore</td>\n",
       "      <td>Bangalore</td>\n",
       "      <td>12</td>\n",
       "      <td>2007-09-01</td>\n",
       "      <td>2009-01-01</td>\n",
       "      <td>2015-07-28</td>\n",
       "    </tr>\n",
       "  </tbody>\n",
       "</table>\n",
       "</div>"
      ],
      "text/plain": [
       "                  permalink      name             homepage_url  \\\n",
       "434  /organization/flipkart  Flipkart  http://www.flipkart.com   \n",
       "\n",
       "                  category_list  funding_total_usd     status country_code  \\\n",
       "434  E-Commerce|Online Shopping         3151140000  operating          IND   \n",
       "\n",
       "     state_code     region       city  funding_rounds founded_at  \\\n",
       "434          19  Bangalore  Bangalore              12 2007-09-01   \n",
       "\n",
       "    first_funding_at last_funding_at  \n",
       "434       2009-01-01      2015-07-28  "
      ]
     },
     "execution_count": 81,
     "metadata": {},
     "output_type": "execute_result"
    }
   ],
   "source": [
    "# Maximum funding\n",
    "startup_df[startup_df['funding_total_usd']==3151140000]"
   ]
  },
  {
   "cell_type": "markdown",
   "id": "f83db18b",
   "metadata": {},
   "source": [
    "The highest funding amount is attributed to Flipkart, a notable leader in the industry, aligning with its substantial financial requirements and prominence."
   ]
  },
  {
   "cell_type": "code",
   "execution_count": 82,
   "id": "be694f45",
   "metadata": {},
   "outputs": [
    {
     "data": {
      "text/html": [
       "<div>\n",
       "<style scoped>\n",
       "    .dataframe tbody tr th:only-of-type {\n",
       "        vertical-align: middle;\n",
       "    }\n",
       "\n",
       "    .dataframe tbody tr th {\n",
       "        vertical-align: top;\n",
       "    }\n",
       "\n",
       "    .dataframe thead th {\n",
       "        text-align: right;\n",
       "    }\n",
       "</style>\n",
       "<table border=\"1\" class=\"dataframe\">\n",
       "  <thead>\n",
       "    <tr style=\"text-align: right;\">\n",
       "      <th></th>\n",
       "      <th>permalink</th>\n",
       "      <th>name</th>\n",
       "      <th>homepage_url</th>\n",
       "      <th>category_list</th>\n",
       "      <th>funding_total_usd</th>\n",
       "      <th>status</th>\n",
       "      <th>country_code</th>\n",
       "      <th>state_code</th>\n",
       "      <th>region</th>\n",
       "      <th>city</th>\n",
       "      <th>funding_rounds</th>\n",
       "      <th>founded_at</th>\n",
       "      <th>first_funding_at</th>\n",
       "      <th>last_funding_at</th>\n",
       "    </tr>\n",
       "  </thead>\n",
       "  <tbody>\n",
       "    <tr>\n",
       "      <th>1131</th>\n",
       "      <td>/organization/ruralserver</td>\n",
       "      <td>RuralServer</td>\n",
       "      <td>http://www.ruralserver.com</td>\n",
       "      <td>Cloud Computing|Cloud Data Services|Domains|In...</td>\n",
       "      <td>569</td>\n",
       "      <td>operating</td>\n",
       "      <td>IND</td>\n",
       "      <td>36</td>\n",
       "      <td>New Delhi</td>\n",
       "      <td>Noida</td>\n",
       "      <td>1</td>\n",
       "      <td>2010-01-01</td>\n",
       "      <td>2013-10-17</td>\n",
       "      <td>2013-10-17</td>\n",
       "    </tr>\n",
       "  </tbody>\n",
       "</table>\n",
       "</div>"
      ],
      "text/plain": [
       "                      permalink         name                homepage_url  \\\n",
       "1131  /organization/ruralserver  RuralServer  http://www.ruralserver.com   \n",
       "\n",
       "                                          category_list  funding_total_usd  \\\n",
       "1131  Cloud Computing|Cloud Data Services|Domains|In...                569   \n",
       "\n",
       "         status country_code  state_code     region   city  funding_rounds  \\\n",
       "1131  operating          IND          36  New Delhi  Noida               1   \n",
       "\n",
       "     founded_at first_funding_at last_funding_at  \n",
       "1131 2010-01-01       2013-10-17      2013-10-17  "
      ]
     },
     "execution_count": 82,
     "metadata": {},
     "output_type": "execute_result"
    }
   ],
   "source": [
    "# Least funded\n",
    "\n",
    "startup_df[startup_df['funding_total_usd']==569]"
   ]
  },
  {
   "cell_type": "markdown",
   "id": "0fe0f06e",
   "metadata": {},
   "source": [
    "**Highest Funding** : Flipkart\n",
    "**Lowest Funding** : Rural Server, \n",
    "\n",
    "Rural Server despite being one of the least funded startups, intriguingly continues to operate successfully."
   ]
  },
  {
   "cell_type": "code",
   "execution_count": 84,
   "id": "b8d6e313",
   "metadata": {},
   "outputs": [
    {
     "data": {
      "text/plain": [
       "1     795\n",
       "2     205\n",
       "3      88\n",
       "4      27\n",
       "5       9\n",
       "6       5\n",
       "7       2\n",
       "8       1\n",
       "11      1\n",
       "12      1\n",
       "Name: funding_rounds, dtype: int64"
      ]
     },
     "execution_count": 84,
     "metadata": {},
     "output_type": "execute_result"
    }
   ],
   "source": [
    "# Assuming startup_df is your DataFrame\n",
    "funding_round_counts = startup_df['funding_rounds'].value_counts().sort_index()\n",
    "funding_round_counts"
   ]
  },
  {
   "cell_type": "code",
   "execution_count": 85,
   "id": "f6eb4928",
   "metadata": {},
   "outputs": [
    {
     "data": {
      "image/png": "[encoded data removed]",
      "text/plain": [
       "<Figure size 1200x600 with 1 Axes>"
      ]
     },
     "metadata": {},
     "output_type": "display_data"
    }
   ],
   "source": [
    "# Visualising the distribution of number of Funding Rounds\n",
    "\n",
    "plt.figure(figsize=(12, 6))\n",
    "bars= plt.bar(funding_round_counts.index, funding_round_counts.values, color='skyblue', edgecolor='black')\n",
    "plt.xlabel('Number of Funding Rounds')\n",
    "plt.ylabel('Count')\n",
    "plt.title('Distribution of Number of Funding Rounds')\n",
    "plt.grid(axis='y', linestyle='--', alpha=0.7)\n",
    "\n",
    "# Set the x-axis ticks explicitly to ensure all values are visible\n",
    "plt.xticks(funding_round_counts.index)\n",
    "\n",
    "# Adding data labels (count values) to the bars\n",
    "for bar, count in zip(bars, funding_round_counts):\n",
    "    plt.text(bar.get_x() + bar.get_width() / 2, bar.get_height() + 10, count, ha='center')\n",
    "# bar.get_x() + bar.get_width() / 2: This part determines the x-coordinate where the data label will be placed. \n",
    "# It calculates the center of the current bar by adding half of the bar's width to its starting x-coordinate.\n",
    "# bar.get_height() + 10: This part determines the y-coordinate where the data label will be placed. \n",
    "# It positions the label slightly above the top of the bar by adding 10 units to the bar's height.\n",
    "\n",
    "plt.savefig('IFFS_Number_Funding_Rounds.jpg',bbox_inches='tight',dpi=150)  \n",
    "# Display the plot\n",
    "plt.show()"
   ]
  },
  {
   "cell_type": "markdown",
   "id": "7c8d069d",
   "metadata": {},
   "source": [
    "Remarkably, the majority of startups in our dataset, precisely 795 of them, have undergone just one round of funding. In stark contrast, only two startups have secured more than eight rounds of funding. Now, let's delve into identifying these exceptional outliers within the dataset.\n",
    "\n",
    "While running the hypothesis test we can create **3 categories for no. of funding rounds ~ 1, 2, 3+**."
   ]
  },
  {
   "cell_type": "code",
   "execution_count": 86,
   "id": "e7814abc",
   "metadata": {},
   "outputs": [
    {
     "data": {
      "text/html": [
       "<div>\n",
       "<style scoped>\n",
       "    .dataframe tbody tr th:only-of-type {\n",
       "        vertical-align: middle;\n",
       "    }\n",
       "\n",
       "    .dataframe tbody tr th {\n",
       "        vertical-align: top;\n",
       "    }\n",
       "\n",
       "    .dataframe thead th {\n",
       "        text-align: right;\n",
       "    }\n",
       "</style>\n",
       "<table border=\"1\" class=\"dataframe\">\n",
       "  <thead>\n",
       "    <tr style=\"text-align: right;\">\n",
       "      <th></th>\n",
       "      <th>permalink</th>\n",
       "      <th>name</th>\n",
       "      <th>homepage_url</th>\n",
       "      <th>category_list</th>\n",
       "      <th>funding_total_usd</th>\n",
       "      <th>status</th>\n",
       "      <th>country_code</th>\n",
       "      <th>state_code</th>\n",
       "      <th>region</th>\n",
       "      <th>city</th>\n",
       "      <th>funding_rounds</th>\n",
       "      <th>founded_at</th>\n",
       "      <th>first_funding_at</th>\n",
       "      <th>last_funding_at</th>\n",
       "    </tr>\n",
       "  </thead>\n",
       "  <tbody>\n",
       "    <tr>\n",
       "      <th>1210</th>\n",
       "      <td>/organization/snapdeal</td>\n",
       "      <td>Snapdeal</td>\n",
       "      <td>http://www.snapdeal.com</td>\n",
       "      <td>E-Commerce</td>\n",
       "      <td>1897699998</td>\n",
       "      <td>operating</td>\n",
       "      <td>IND</td>\n",
       "      <td>7</td>\n",
       "      <td>New Delhi</td>\n",
       "      <td>New Delhi</td>\n",
       "      <td>11</td>\n",
       "      <td>2010-01-01</td>\n",
       "      <td>2011-01-01</td>\n",
       "      <td>2015-08-18</td>\n",
       "    </tr>\n",
       "  </tbody>\n",
       "</table>\n",
       "</div>"
      ],
      "text/plain": [
       "                   permalink      name             homepage_url category_list  \\\n",
       "1210  /organization/snapdeal  Snapdeal  http://www.snapdeal.com    E-Commerce   \n",
       "\n",
       "      funding_total_usd     status country_code  state_code     region  \\\n",
       "1210         1897699998  operating          IND           7  New Delhi   \n",
       "\n",
       "           city  funding_rounds founded_at first_funding_at last_funding_at  \n",
       "1210  New Delhi              11 2010-01-01       2011-01-01      2015-08-18  "
      ]
     },
     "execution_count": 86,
     "metadata": {},
     "output_type": "execute_result"
    }
   ],
   "source": [
    "startup_df[startup_df['funding_rounds']==11]"
   ]
  },
  {
   "cell_type": "code",
   "execution_count": 87,
   "id": "430020d5",
   "metadata": {},
   "outputs": [
    {
     "data": {
      "text/html": [
       "<div>\n",
       "<style scoped>\n",
       "    .dataframe tbody tr th:only-of-type {\n",
       "        vertical-align: middle;\n",
       "    }\n",
       "\n",
       "    .dataframe tbody tr th {\n",
       "        vertical-align: top;\n",
       "    }\n",
       "\n",
       "    .dataframe thead th {\n",
       "        text-align: right;\n",
       "    }\n",
       "</style>\n",
       "<table border=\"1\" class=\"dataframe\">\n",
       "  <thead>\n",
       "    <tr style=\"text-align: right;\">\n",
       "      <th></th>\n",
       "      <th>permalink</th>\n",
       "      <th>name</th>\n",
       "      <th>homepage_url</th>\n",
       "      <th>category_list</th>\n",
       "      <th>funding_total_usd</th>\n",
       "      <th>status</th>\n",
       "      <th>country_code</th>\n",
       "      <th>state_code</th>\n",
       "      <th>region</th>\n",
       "      <th>city</th>\n",
       "      <th>funding_rounds</th>\n",
       "      <th>founded_at</th>\n",
       "      <th>first_funding_at</th>\n",
       "      <th>last_funding_at</th>\n",
       "    </tr>\n",
       "  </thead>\n",
       "  <tbody>\n",
       "    <tr>\n",
       "      <th>434</th>\n",
       "      <td>/organization/flipkart</td>\n",
       "      <td>Flipkart</td>\n",
       "      <td>http://www.flipkart.com</td>\n",
       "      <td>E-Commerce|Online Shopping</td>\n",
       "      <td>3151140000</td>\n",
       "      <td>operating</td>\n",
       "      <td>IND</td>\n",
       "      <td>19</td>\n",
       "      <td>Bangalore</td>\n",
       "      <td>Bangalore</td>\n",
       "      <td>12</td>\n",
       "      <td>2007-09-01</td>\n",
       "      <td>2009-01-01</td>\n",
       "      <td>2015-07-28</td>\n",
       "    </tr>\n",
       "  </tbody>\n",
       "</table>\n",
       "</div>"
      ],
      "text/plain": [
       "                  permalink      name             homepage_url  \\\n",
       "434  /organization/flipkart  Flipkart  http://www.flipkart.com   \n",
       "\n",
       "                  category_list  funding_total_usd     status country_code  \\\n",
       "434  E-Commerce|Online Shopping         3151140000  operating          IND   \n",
       "\n",
       "     state_code     region       city  funding_rounds founded_at  \\\n",
       "434          19  Bangalore  Bangalore              12 2007-09-01   \n",
       "\n",
       "    first_funding_at last_funding_at  \n",
       "434       2009-01-01      2015-07-28  "
      ]
     },
     "execution_count": 87,
     "metadata": {},
     "output_type": "execute_result"
    }
   ],
   "source": [
    "startup_df[startup_df['funding_rounds']==12]"
   ]
  },
  {
   "cell_type": "markdown",
   "id": "566e8717",
   "metadata": {},
   "source": [
    "These represent some of the foremost e-commerce platforms, notably Snapdeal and Flipkart.\n",
    "\n",
    "Now that we've gained a comprehensive understanding of the dataset, let's proceed to test our hypothesis."
   ]
  },
  {
   "cell_type": "markdown",
   "id": "97c03356",
   "metadata": {},
   "source": [
    "#### Step 3: Selecting the Appropriate Statistical Test"
   ]
  },
  {
   "cell_type": "markdown",
   "id": "9de926ce",
   "metadata": {},
   "source": [
    "### Mean Funds Raised\n",
    "\n",
    "Null Hypothesis (H0): There is no statistically significant difference in the mean funds raised by currently operating startups and startups that have closed.\n",
    "\n",
    "Alternative Hypothesis (H1): There is a statistically significant difference in the mean funds raised by currently operating startups and startups that have closed.\n",
    "\n",
    "Using an independent sample t-test in this context is justified for the following reasons:\n",
    "1. Comparing Two Independent Groups: The independent sample t-test is suitable when we are comparing two separate and independent groups, which aligns perfectly with our scenario of comparing currently operating startups with startups that have closed. These two groups are distinct and unrelated in terms of their current status.\n",
    "\n",
    "2. Continuous Numeric Data: The t-test is designed for comparing means of continuous numerical data, which is precisely what we have in our hypothesis testing. We are interested in comparing the mean funds raised, a continuous variable, between the two groups.\n",
    "\n",
    "3. Normal Distribution Assumption: The t-test assumes that the data within each group follows a normal distribution. While this assumption should be checked, it often holds reasonably well for financial data, especially when the sample size is sufficiently large ~ we know basis EDA that both have >30 sample size\n",
    "\n",
    "4. Homogeneity of Variance: We must check that using Levene Test."
   ]
  },
  {
   "cell_type": "markdown",
   "id": "9125f3f2",
   "metadata": {},
   "source": [
    "The Levene's Test is a statistical test used to assess whether the variances of two or more groups are equal or homogenous. It is particularly valuable when comparing multiple groups with the same independent variable to ensure that the assumption of homogeneity of variances, a key assumption in many statistical tests, is met.\n",
    "\n",
    "**Null Hypothesis (H0):** The null hypothesis in Levene's Test is that there are no significant differences in the variances of the groups being compared. In other words, it assumes that the variances are equal across all groups.\n",
    "\n",
    "**Alternative Hypothesis (H1):** The alternative hypothesis in Levene's Test is that there are significant differences in the variances of the groups being compared. If the p-value is sufficiently small, you would reject the null hypothesis in favor of the alternative, indicating that at least one group has a significantly different variance compared to the others.\n",
    "\n",
    "In practical terms, Levene's Test helps you determine whether it's appropriate to use statistical tests that assume equal variances across groups, such as the independent sample t-test or analysis of variance (ANOVA). If the test indicates unequal variances, you may need to consider alternative statistical methods that are more robust to heteroscedasticity (unequal variances).\n",
    "\n",
    "Overall, Levene's Test is a valuable tool in the field of statistics for assessing the homogeneity of variances and ensuring the validity of subsequent statistical analyses."
   ]
  },
  {
   "cell_type": "code",
   "execution_count": 46,
   "id": "dba69976",
   "metadata": {},
   "outputs": [
    {
     "name": "stdout",
     "output_type": "stream",
     "text": [
      "Levene's Test Statistic: 0.36074537025282777\n",
      "P-value: 0.5482127964683872\n",
      "Fail to reject the null hypothesis: Variances are equal.\n"
     ]
    }
   ],
   "source": [
    "from scipy import stats\n",
    "\n",
    "group1 = startup_df[startup_df['status'] == 'operating']['funding_total_usd']\n",
    "group2 = startup_df[startup_df['status'] == 'closed']['funding_total_usd']\n",
    "\n",
    "stat, p_value = stats.levene(group1, group2)\n",
    "print(f\"Levene's Test Statistic: {stat}\")\n",
    "print(f\"P-value: {p_value}\")\n",
    "\n",
    "if p_value < 0.05:\n",
    "    print(\"Reject the null hypothesis: Variances are not equal.\")\n",
    "else:\n",
    "    print(\"Fail to reject the null hypothesis: Variances are equal.\")"
   ]
  },
  {
   "cell_type": "markdown",
   "id": "b9637784",
   "metadata": {},
   "source": [
    "We have determined that the **variances are equal**, thus meeting the assumption for the independent sample t-test. We can now proceed with the independent sample t-test confidently.\""
   ]
  },
  {
   "cell_type": "markdown",
   "id": "f287dd2c",
   "metadata": {},
   "source": [
    "### Number of Funding Rounds"
   ]
  },
  {
   "cell_type": "markdown",
   "id": "54e1f006",
   "metadata": {},
   "source": [
    "The Chi-Square Test of Independence is typically used when you have categorical data and you want to investigate whether there is a statistically significant association or relationship between two categorical variables. \n",
    "\n",
    "In our case, you are interested in the number of funding rounds (which is likely a discrete, count variable) and the status of startups (which is categorical - either \"currently operating\" or \"closed\"). \n",
    "\n",
    "Here's why the Chi-Square Test of Independence is suitable for our hypothesis. \n",
    "\n",
    "We know that observations are independent, Cells in the contingency table are mutually exclusive, The only thing we need to check is if ~ Expected value of cells should be 5 or greater in at least 80% of cells."
   ]
  },
  {
   "cell_type": "markdown",
   "id": "3dc60489",
   "metadata": {},
   "source": [
    "#### Step 4 & 5: Statistical Analysis & Conclusion"
   ]
  },
  {
   "cell_type": "markdown",
   "id": "f0160f53",
   "metadata": {},
   "source": [
    "### Mean Fund Raised"
   ]
  },
  {
   "cell_type": "code",
   "execution_count": 47,
   "id": "010ff26c",
   "metadata": {},
   "outputs": [
    {
     "data": {
      "text/plain": [
       "1085"
      ]
     },
     "execution_count": 47,
     "metadata": {},
     "output_type": "execute_result"
    }
   ],
   "source": [
    "# No. of startups which are operating\n",
    "startup_df[startup_df['status']=='operating']['funding_total_usd'].count()"
   ]
  },
  {
   "cell_type": "code",
   "execution_count": 48,
   "id": "c879ee11",
   "metadata": {},
   "outputs": [
    {
     "data": {
      "text/plain": [
       "49"
      ]
     },
     "execution_count": 48,
     "metadata": {},
     "output_type": "execute_result"
    }
   ],
   "source": [
    "startup_df[startup_df['status']=='closed']['funding_total_usd'].count()"
   ]
  },
  {
   "cell_type": "code",
   "execution_count": 54,
   "id": "6042641e",
   "metadata": {},
   "outputs": [
    {
     "data": {
      "text/html": [
       "<div>\n",
       "<style scoped>\n",
       "    .dataframe tbody tr th:only-of-type {\n",
       "        vertical-align: middle;\n",
       "    }\n",
       "\n",
       "    .dataframe tbody tr th {\n",
       "        vertical-align: top;\n",
       "    }\n",
       "\n",
       "    .dataframe thead th {\n",
       "        text-align: right;\n",
       "    }\n",
       "</style>\n",
       "<table border=\"1\" class=\"dataframe\">\n",
       "  <thead>\n",
       "    <tr style=\"text-align: right;\">\n",
       "      <th></th>\n",
       "      <th>Funds_operating</th>\n",
       "    </tr>\n",
       "  </thead>\n",
       "  <tbody>\n",
       "    <tr>\n",
       "      <th>0</th>\n",
       "      <td>10000000</td>\n",
       "    </tr>\n",
       "    <tr>\n",
       "      <th>1</th>\n",
       "      <td>6369507</td>\n",
       "    </tr>\n",
       "    <tr>\n",
       "      <th>2</th>\n",
       "      <td>4000000</td>\n",
       "    </tr>\n",
       "    <tr>\n",
       "      <th>3</th>\n",
       "      <td>20000</td>\n",
       "    </tr>\n",
       "    <tr>\n",
       "      <th>4</th>\n",
       "      <td>2065000</td>\n",
       "    </tr>\n",
       "  </tbody>\n",
       "</table>\n",
       "</div>"
      ],
      "text/plain": [
       "   Funds_operating\n",
       "0         10000000\n",
       "1          6369507\n",
       "2          4000000\n",
       "3            20000\n",
       "4          2065000"
      ]
     },
     "execution_count": 54,
     "metadata": {},
     "output_type": "execute_result"
    }
   ],
   "source": [
    "# Create a new data frame of only those companies which are still operating and their respective funds\n",
    "\n",
    "df1 = startup_df.loc[startup_df['status'] == 'operating', ['funding_total_usd']].reset_index(drop=True)\n",
    "df1 = df1.rename(columns={'funding_total_usd':'Funds_operating'}).reset_index(drop=True)\n",
    "df1.head()"
   ]
  },
  {
   "cell_type": "code",
   "execution_count": 57,
   "id": "10c17d55",
   "metadata": {},
   "outputs": [
    {
     "data": {
      "text/html": [
       "<div>\n",
       "<style scoped>\n",
       "    .dataframe tbody tr th:only-of-type {\n",
       "        vertical-align: middle;\n",
       "    }\n",
       "\n",
       "    .dataframe tbody tr th {\n",
       "        vertical-align: top;\n",
       "    }\n",
       "\n",
       "    .dataframe thead th {\n",
       "        text-align: right;\n",
       "    }\n",
       "</style>\n",
       "<table border=\"1\" class=\"dataframe\">\n",
       "  <thead>\n",
       "    <tr style=\"text-align: right;\">\n",
       "      <th></th>\n",
       "      <th>Funds_closed</th>\n",
       "    </tr>\n",
       "  </thead>\n",
       "  <tbody>\n",
       "    <tr>\n",
       "      <th>0</th>\n",
       "      <td>25000</td>\n",
       "    </tr>\n",
       "    <tr>\n",
       "      <th>1</th>\n",
       "      <td>10000</td>\n",
       "    </tr>\n",
       "    <tr>\n",
       "      <th>2</th>\n",
       "      <td>10000000</td>\n",
       "    </tr>\n",
       "    <tr>\n",
       "      <th>3</th>\n",
       "      <td>40000</td>\n",
       "    </tr>\n",
       "    <tr>\n",
       "      <th>4</th>\n",
       "      <td>25000000</td>\n",
       "    </tr>\n",
       "  </tbody>\n",
       "</table>\n",
       "</div>"
      ],
      "text/plain": [
       "   Funds_closed\n",
       "0         25000\n",
       "1         10000\n",
       "2      10000000\n",
       "3         40000\n",
       "4      25000000"
      ]
     },
     "execution_count": 57,
     "metadata": {},
     "output_type": "execute_result"
    }
   ],
   "source": [
    "# Create a new data frame of only those companies which are closed and their respective funds\n",
    "\n",
    "df2 = startup_df.loc[startup_df['status']=='closed',['funding_total_usd']].reset_index(drop=True)\n",
    "df2 = df2.rename(columns={'funding_total_usd':'Funds_closed'})\n",
    "df2.head()"
   ]
  },
  {
   "cell_type": "code",
   "execution_count": 58,
   "id": "de1666ff",
   "metadata": {},
   "outputs": [
    {
     "data": {
      "text/html": [
       "<div>\n",
       "<style scoped>\n",
       "    .dataframe tbody tr th:only-of-type {\n",
       "        vertical-align: middle;\n",
       "    }\n",
       "\n",
       "    .dataframe tbody tr th {\n",
       "        vertical-align: top;\n",
       "    }\n",
       "\n",
       "    .dataframe thead th {\n",
       "        text-align: right;\n",
       "    }\n",
       "</style>\n",
       "<table border=\"1\" class=\"dataframe\">\n",
       "  <thead>\n",
       "    <tr style=\"text-align: right;\">\n",
       "      <th></th>\n",
       "      <th>Funds_operating</th>\n",
       "      <th>Funds_closed</th>\n",
       "    </tr>\n",
       "  </thead>\n",
       "  <tbody>\n",
       "    <tr>\n",
       "      <th>0</th>\n",
       "      <td>10000000</td>\n",
       "      <td>25000</td>\n",
       "    </tr>\n",
       "    <tr>\n",
       "      <th>1</th>\n",
       "      <td>6369507</td>\n",
       "      <td>10000</td>\n",
       "    </tr>\n",
       "    <tr>\n",
       "      <th>2</th>\n",
       "      <td>4000000</td>\n",
       "      <td>10000000</td>\n",
       "    </tr>\n",
       "    <tr>\n",
       "      <th>3</th>\n",
       "      <td>20000</td>\n",
       "      <td>40000</td>\n",
       "    </tr>\n",
       "    <tr>\n",
       "      <th>4</th>\n",
       "      <td>2065000</td>\n",
       "      <td>25000000</td>\n",
       "    </tr>\n",
       "  </tbody>\n",
       "</table>\n",
       "</div>"
      ],
      "text/plain": [
       "   Funds_operating  Funds_closed\n",
       "0         10000000         25000\n",
       "1          6369507         10000\n",
       "2          4000000      10000000\n",
       "3            20000         40000\n",
       "4          2065000      25000000"
      ]
     },
     "execution_count": 58,
     "metadata": {},
     "output_type": "execute_result"
    }
   ],
   "source": [
    "# Creating a new dataframe for further analysis\n",
    "df3 = pd.concat([df1, df2], axis = 1)\n",
    "df3.head()"
   ]
  },
  {
   "cell_type": "code",
   "execution_count": 59,
   "id": "fe449013",
   "metadata": {},
   "outputs": [
    {
     "name": "stdout",
     "output_type": "stream",
     "text": [
      "Mean funds (in million) for startup which are operating is: 23981373.343251728\n"
     ]
    }
   ],
   "source": [
    "# Funds_Sample1 represents funds for operating startup\n",
    "\n",
    "# Mean funds (in million) for startup which are operating\n",
    "mean_1=df3['Funds_operating'].mean()\n",
    "\n",
    "print('Mean funds (in million) for startup which are operating is:',mean_1)"
   ]
  },
  {
   "cell_type": "code",
   "execution_count": 60,
   "id": "4e8af003",
   "metadata": {},
   "outputs": [
    {
     "name": "stdout",
     "output_type": "stream",
     "text": [
      "Mean funds (in million) for startup which are closed is: 10322911.346938776\n"
     ]
    }
   ],
   "source": [
    "# Funds_Sample2 represents funds for closed startup\n",
    "\n",
    "# Mean funds (in million) for startup which are closed\n",
    "mean_2=df3['Funds_closed'].mean()\n",
    "\n",
    "print('Mean funds (in million) for startup which are closed is:',mean_2)"
   ]
  },
  {
   "cell_type": "markdown",
   "id": "ac17139a",
   "metadata": {},
   "source": [
    "**Null Hypothesis**\n",
    "\n",
    "H0= there is no significant difference between the mean funds raised by the two groups i.e. startups which are operating & startups which are closed\n",
    "\n",
    "i.e. **H0**: mean_1 = mean_2\n",
    "\n",
    "**Alternative hypothesis**\n",
    "\n",
    "H1 = there is significant difference between the mean funds raised by the two groups i.e. startups which are operating & startups which are closed\n",
    "\n",
    "i.e. **H1**: mean_1 != mean_2\n",
    "\n",
    "Also our **alpha is 0.05**."
   ]
  },
  {
   "cell_type": "code",
   "execution_count": 61,
   "id": "3297a635",
   "metadata": {},
   "outputs": [],
   "source": [
    "#load library\n",
    "\n",
    "from scipy.stats import ttest_ind"
   ]
  },
  {
   "cell_type": "code",
   "execution_count": 63,
   "id": "8d7fc442",
   "metadata": {},
   "outputs": [
    {
     "name": "stdout",
     "output_type": "stream",
     "text": [
      "T-statistic: 0.6085283061630911\n",
      "P-value: 0.5429592211146083\n"
     ]
    }
   ],
   "source": [
    "# Hypothesis Testing\n",
    "\n",
    "t, pvalue = ttest_ind(df3['Funds_operating'], df3['Funds_closed'], nan_policy = 'omit')\n",
    "\n",
    "# Print results\n",
    "print('T-statistic:', t)\n",
    "print('P-value:', pvalue)"
   ]
  },
  {
   "cell_type": "markdown",
   "id": "d4e9e991",
   "metadata": {},
   "source": [
    "The **p-value, which is greater than the chosen alpha level (i.e., 0.54 > 0.05)**, leads us to fail to reject the null hypothesis with **95% confidence**. \n",
    "\n",
    "Therefore, we conclude that there is **no statistically significant difference in the funds raised between currently operating startups and closed startups**."
   ]
  },
  {
   "cell_type": "markdown",
   "id": "d3db0ecd",
   "metadata": {},
   "source": [
    "### Number of Funding Rounds"
   ]
  },
  {
   "cell_type": "code",
   "execution_count": 64,
   "id": "c502780e",
   "metadata": {},
   "outputs": [
    {
     "data": {
      "text/html": [
       "<div>\n",
       "<style scoped>\n",
       "    .dataframe tbody tr th:only-of-type {\n",
       "        vertical-align: middle;\n",
       "    }\n",
       "\n",
       "    .dataframe tbody tr th {\n",
       "        vertical-align: top;\n",
       "    }\n",
       "\n",
       "    .dataframe thead th {\n",
       "        text-align: right;\n",
       "    }\n",
       "</style>\n",
       "<table border=\"1\" class=\"dataframe\">\n",
       "  <thead>\n",
       "    <tr style=\"text-align: right;\">\n",
       "      <th></th>\n",
       "      <th>permalink</th>\n",
       "      <th>name</th>\n",
       "      <th>homepage_url</th>\n",
       "      <th>category_list</th>\n",
       "      <th>funding_total_usd</th>\n",
       "      <th>status</th>\n",
       "      <th>country_code</th>\n",
       "      <th>state_code</th>\n",
       "      <th>region</th>\n",
       "      <th>city</th>\n",
       "      <th>funding_rounds</th>\n",
       "      <th>founded_at</th>\n",
       "      <th>first_funding_at</th>\n",
       "      <th>last_funding_at</th>\n",
       "      <th>rounds of funding category</th>\n",
       "    </tr>\n",
       "  </thead>\n",
       "  <tbody>\n",
       "    <tr>\n",
       "      <th>0</th>\n",
       "      <td>/organization/-fame</td>\n",
       "      <td>#fame</td>\n",
       "      <td>http://livfame.com</td>\n",
       "      <td>Media</td>\n",
       "      <td>10000000</td>\n",
       "      <td>operating</td>\n",
       "      <td>IND</td>\n",
       "      <td>16</td>\n",
       "      <td>Mumbai</td>\n",
       "      <td>Mumbai</td>\n",
       "      <td>1</td>\n",
       "      <td>NaT</td>\n",
       "      <td>2015-01-05</td>\n",
       "      <td>2015-01-05</td>\n",
       "      <td>1</td>\n",
       "    </tr>\n",
       "    <tr>\n",
       "      <th>2</th>\n",
       "      <td>/organization/21diamonds-india</td>\n",
       "      <td>21Diamonds</td>\n",
       "      <td>http://www.21diamonds.de</td>\n",
       "      <td>E-Commerce</td>\n",
       "      <td>6369507</td>\n",
       "      <td>operating</td>\n",
       "      <td>IND</td>\n",
       "      <td>10</td>\n",
       "      <td>New Delhi</td>\n",
       "      <td>Gurgaon</td>\n",
       "      <td>1</td>\n",
       "      <td>2012-06-01</td>\n",
       "      <td>2012-11-15</td>\n",
       "      <td>2012-11-15</td>\n",
       "      <td>1</td>\n",
       "    </tr>\n",
       "    <tr>\n",
       "      <th>3</th>\n",
       "      <td>/organization/247-learning-private</td>\n",
       "      <td>24x7 Learning</td>\n",
       "      <td>http://www.24x7learning.com</td>\n",
       "      <td>EdTech|Education|Systems</td>\n",
       "      <td>4000000</td>\n",
       "      <td>operating</td>\n",
       "      <td>IND</td>\n",
       "      <td>19</td>\n",
       "      <td>Bangalore</td>\n",
       "      <td>Bangalore</td>\n",
       "      <td>1</td>\n",
       "      <td>2001-01-01</td>\n",
       "      <td>2007-11-06</td>\n",
       "      <td>2007-11-06</td>\n",
       "      <td>1</td>\n",
       "    </tr>\n",
       "    <tr>\n",
       "      <th>4</th>\n",
       "      <td>/organization/33coupons</td>\n",
       "      <td>33Coupons</td>\n",
       "      <td>http://33coupons.in</td>\n",
       "      <td>Internet</td>\n",
       "      <td>20000</td>\n",
       "      <td>operating</td>\n",
       "      <td>IND</td>\n",
       "      <td>36</td>\n",
       "      <td>Kanpur</td>\n",
       "      <td>Kanpur</td>\n",
       "      <td>1</td>\n",
       "      <td>2015-05-01</td>\n",
       "      <td>2015-07-06</td>\n",
       "      <td>2015-07-06</td>\n",
       "      <td>1</td>\n",
       "    </tr>\n",
       "    <tr>\n",
       "      <th>5</th>\n",
       "      <td>/organization/3dsoc</td>\n",
       "      <td>3DSoC</td>\n",
       "      <td>http://www.3dsoc.com</td>\n",
       "      <td>3D|Mobile</td>\n",
       "      <td>2065000</td>\n",
       "      <td>operating</td>\n",
       "      <td>IND</td>\n",
       "      <td>19</td>\n",
       "      <td>Bangalore</td>\n",
       "      <td>Bangalore</td>\n",
       "      <td>2</td>\n",
       "      <td>2006-06-01</td>\n",
       "      <td>2007-12-01</td>\n",
       "      <td>2010-08-01</td>\n",
       "      <td>2</td>\n",
       "    </tr>\n",
       "  </tbody>\n",
       "</table>\n",
       "</div>"
      ],
      "text/plain": [
       "                            permalink           name  \\\n",
       "0                 /organization/-fame          #fame   \n",
       "2      /organization/21diamonds-india     21Diamonds   \n",
       "3  /organization/247-learning-private  24x7 Learning   \n",
       "4             /organization/33coupons      33Coupons   \n",
       "5                 /organization/3dsoc          3DSoC   \n",
       "\n",
       "                  homepage_url             category_list  funding_total_usd  \\\n",
       "0           http://livfame.com                     Media           10000000   \n",
       "2     http://www.21diamonds.de                E-Commerce            6369507   \n",
       "3  http://www.24x7learning.com  EdTech|Education|Systems            4000000   \n",
       "4          http://33coupons.in                  Internet              20000   \n",
       "5         http://www.3dsoc.com                 3D|Mobile            2065000   \n",
       "\n",
       "      status country_code  state_code     region       city  funding_rounds  \\\n",
       "0  operating          IND          16     Mumbai     Mumbai               1   \n",
       "2  operating          IND          10  New Delhi    Gurgaon               1   \n",
       "3  operating          IND          19  Bangalore  Bangalore               1   \n",
       "4  operating          IND          36     Kanpur     Kanpur               1   \n",
       "5  operating          IND          19  Bangalore  Bangalore               2   \n",
       "\n",
       "  founded_at first_funding_at last_funding_at rounds of funding category  \n",
       "0        NaT       2015-01-05      2015-01-05                          1  \n",
       "2 2012-06-01       2012-11-15      2012-11-15                          1  \n",
       "3 2001-01-01       2007-11-06      2007-11-06                          1  \n",
       "4 2015-05-01       2015-07-06      2015-07-06                          1  \n",
       "5 2006-06-01       2007-12-01      2010-08-01                          2  "
      ]
     },
     "execution_count": 64,
     "metadata": {},
     "output_type": "execute_result"
    }
   ],
   "source": [
    "# Define a function to categorize funding rounds\n",
    "def categorize_rounds(round):\n",
    "    if round == 1:\n",
    "        return '1'\n",
    "    elif round == 2:\n",
    "        return '2'\n",
    "    else:\n",
    "        return '3+'\n",
    "\n",
    "# Apply the categorize_rounds function to create a new 'category' column\n",
    "startup_df['rounds of funding category'] = startup_df['funding_rounds'].apply(categorize_rounds)\n",
    "\n",
    "# Print the DataFrame with the new category column\n",
    "startup_df.head()"
   ]
  },
  {
   "cell_type": "code",
   "execution_count": 65,
   "id": "20c7e132",
   "metadata": {
    "scrolled": true
   },
   "outputs": [
    {
     "data": {
      "text/html": [
       "<div>\n",
       "<style scoped>\n",
       "    .dataframe tbody tr th:only-of-type {\n",
       "        vertical-align: middle;\n",
       "    }\n",
       "\n",
       "    .dataframe tbody tr th {\n",
       "        vertical-align: top;\n",
       "    }\n",
       "\n",
       "    .dataframe thead th {\n",
       "        text-align: right;\n",
       "    }\n",
       "</style>\n",
       "<table border=\"1\" class=\"dataframe\">\n",
       "  <thead>\n",
       "    <tr style=\"text-align: right;\">\n",
       "      <th>status</th>\n",
       "      <th>closed</th>\n",
       "      <th>operating</th>\n",
       "    </tr>\n",
       "    <tr>\n",
       "      <th>rounds of funding category</th>\n",
       "      <th></th>\n",
       "      <th></th>\n",
       "    </tr>\n",
       "  </thead>\n",
       "  <tbody>\n",
       "    <tr>\n",
       "      <th>1</th>\n",
       "      <td>39</td>\n",
       "      <td>756</td>\n",
       "    </tr>\n",
       "    <tr>\n",
       "      <th>2</th>\n",
       "      <td>7</td>\n",
       "      <td>198</td>\n",
       "    </tr>\n",
       "    <tr>\n",
       "      <th>3+</th>\n",
       "      <td>3</td>\n",
       "      <td>131</td>\n",
       "    </tr>\n",
       "  </tbody>\n",
       "</table>\n",
       "</div>"
      ],
      "text/plain": [
       "status                      closed  operating\n",
       "rounds of funding category                   \n",
       "1                               39        756\n",
       "2                                7        198\n",
       "3+                               3        131"
      ]
     },
     "execution_count": 65,
     "metadata": {},
     "output_type": "execute_result"
    }
   ],
   "source": [
    "# Create cross tab\n",
    "pd.crosstab(startup_df['rounds of funding category'], startup_df['status'])"
   ]
  },
  {
   "cell_type": "code",
   "execution_count": 66,
   "id": "1b9a28ad",
   "metadata": {},
   "outputs": [
    {
     "name": "stdout",
     "output_type": "stream",
     "text": [
      "Expected Frequencies:\n",
      "status                      closed  operating\n",
      "rounds of funding category                   \n",
      "1                               34        761\n",
      "2                                9        196\n",
      "3+                               6        128\n"
     ]
    }
   ],
   "source": [
    "contingency_table = pd.crosstab(startup_df['rounds of funding category'], startup_df['status'])\n",
    "\n",
    "# Calculate expected frequencies\n",
    "expected_frequencies = stats.contingency.expected_freq(contingency_table)\n",
    "\n",
    "# Create a DataFrame to display the expected frequencies\n",
    "expected_df = pd.DataFrame(expected_frequencies, columns=contingency_table.columns, index=contingency_table.index)\n",
    "\n",
    "# Display the expected frequencies\n",
    "print(\"Expected Frequencies:\")\n",
    "print(expected_df)"
   ]
  },
  {
   "cell_type": "markdown",
   "id": "1f8a0b7d",
   "metadata": {},
   "source": [
    "All the values in the expected frequencies exceed the threshold of 5, indicating that our dataset meets the assumption of expected cell frequencies for the Chi-Square Test of Independence. Consequently, we are well-equipped to advance with our hypothesis testing"
   ]
  },
  {
   "cell_type": "code",
   "execution_count": 67,
   "id": "a62ab1c4",
   "metadata": {},
   "outputs": [
    {
     "name": "stdout",
     "output_type": "stream",
     "text": [
      "The p-value is 0.2908506204110049\n"
     ]
    }
   ],
   "source": [
    "# Import library\n",
    "from scipy.stats import chi2_contingency\n",
    "\n",
    "# Run the Chi Square Test\n",
    "\n",
    "chi2, pval, dof, exp_freq = chi2_contingency(contingency_table, correction = False)\n",
    "print('The p-value is',pval)"
   ]
  },
  {
   "cell_type": "markdown",
   "id": "60948522",
   "metadata": {},
   "source": [
    "The **p-value, which is greater than the chosen alpha level (i.e., 0.29 > 0.05)**, leads us to fail to reject the null hypothesis with **95% confidence**.\n",
    "\n",
    "This suggests that there is **no statistically significant difference in the number of funding rounds between currently operating startups and startups that have closed**, based on our dataset and chosen level of significance."
   ]
  },
  {
   "cell_type": "markdown",
   "id": "55c7f317",
   "metadata": {},
   "source": [
    "Based on the statistical analyses conducted, it can be concluded that:\n",
    "\n",
    "There is no statistically significant difference in the funds raised by currently operating startups and startups that have closed, as per the independent sample t-test.\n",
    "There is no statistically significant association between the number of funding rounds and the status of startups, as indicated by the Chi-Square Test of Independence."
   ]
  },
  {
   "cell_type": "markdown",
   "id": "e47270a0",
   "metadata": {},
   "source": [
    "## THANK YOU "
   ]
  }
 ],
 "metadata": {
  "kernelspec": {
   "display_name": "Python 3 (ipykernel)",
   "language": "python",
   "name": "python3"
  },
  "language_info": {
   "codemirror_mode": {
    "name": "ipython",
    "version": 3
   },
   "file_extension": ".py",
   "mimetype": "text/x-python",
   "name": "python",
   "nbconvert_exporter": "python",
   "pygments_lexer": "ipython3",
   "version": "3.10.9"
  }
 },
 "nbformat": 4,
 "nbformat_minor": 5
}
